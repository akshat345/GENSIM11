{
  "nbformat": 4,
  "nbformat_minor": 0,
  "metadata": {
    "colab": {
      "name": "MODIFIED GENSIM.ipynb",
      "provenance": []
    },
    "kernelspec": {
      "name": "python3",
      "display_name": "Python 3"
    },
    "language_info": {
      "name": "python"
    }
  },
  "cells": [
    {
      "cell_type": "code",
      "metadata": {
        "id": "kX_AsLWiP7ex"
      },
      "source": [
        "from pprint import pprint as print\n",
        "from gensim.summarization import summarize\n"
      ],
      "execution_count": null,
      "outputs": []
    },
    {
      "cell_type": "code",
      "metadata": {
        "id": "b6NLOx5J3OPf"
      },
      "source": [
        "\n",
        "from bs4 import BeautifulSoup\n"
      ],
      "execution_count": 3,
      "outputs": []
    },
    {
      "cell_type": "code",
      "metadata": {
        "id": "jXMFw_U4QJrZ"
      },
      "source": [
        "URL = \"https://www.d3vtech.com/cloud-news/the-tiktok-controversy-and-its-foundation-in-cloud-computing\""
      ],
      "execution_count": 5,
      "outputs": []
    },
    {
      "cell_type": "code",
      "metadata": {
        "id": "_GWu9Q4yQq52"
      },
      "source": [
        "r = requests.get(URL)\n"
      ],
      "execution_count": 6,
      "outputs": []
    },
    {
      "cell_type": "code",
      "metadata": {
        "id": "zpsrSLycSdC_"
      },
      "source": [
        "soup = BeautifulSoup(r.text, 'html.parser')\n",
        "results = soup.find_all(['h1', 'p'])\n",
        "text = [result.text for result in results]\n",
        "ARTICLE = ' '.join(text)"
      ],
      "execution_count": 7,
      "outputs": []
    },
    {
      "cell_type": "code",
      "metadata": {
        "colab": {
          "base_uri": "https://localhost:8080/",
          "height": 120
        },
        "id": "F8zEs3RaSk3W",
        "outputId": "b748b60e-8108-4cd4-d612-eb34248df89a"
      },
      "source": [
        "ARTICLE"
      ],
      "execution_count": 10,
      "outputs": [
        {
          "output_type": "execute_result",
          "data": {
            "application/vnd.google.colaboratory.intrinsic+json": {
              "type": "string"
            },
            "text/plain": [
              "'The TikTok Controversy and its Foundation in Cloud Computing \\nSeptember 27, 2020\\n  TikTok and its data protection practices has been questioned by the US government, leading to the company being forced to move its data storage onto US soil through acquisition from an American tech organization. **This story has since developed. A more recent update can be found in our 2021 cloud news article on the potential ban on TikTok in the US Though everyone is aware of the current situation with TikTok, what is lesser known is this controversy\\'s basis in the cloud. If you’ve been wondering about the acquisition interest of Microsoft or Oracle, look no further. On August 6, 2020, President Trump signed an Executive Order announcing he would be taking action to protect the national security of the United States from risks posed by the spread of “mobile applications and owned companies in the People’s Republic of China.” The order states apps such as these including TikTok continue “to threaten the national security, foreign policy, and economy of the United States.” Although, TikTok is one of America’s most beloved short-form video social media platforms, and has been downloaded over 175 million times in the United States as well as one billion times globally, there is concern over the amount of information it collects from its users and how that information is used since it is owned by China-based company ByteDance. Some of this data includes internet and other network activity information such as location and browsing data and search histories. According to President Trump this data provides “the Chinese Communist Party access to Americans’ personal and proprietary information — potentially allowing China to track the locations of Federal employees and contractors, build dossiers of personal information for blackmail, and conduct corporate espionage.” He also accused TikTok of censorship due to China’s political agenda specifically relating to the origin of COVID-19 and cited other TikTok related bans in the US and abroad as further proof change of ownership is needed. While TikTok’s parent company ByteDance has denied all claims customer information is currently at risk of being handed over to the Chinese government, the order warned the company to fix its security issues and sell its United States operations to a U.S. buyer or it would be banned from operating in the United States permanently. The initial Executive Order gave ByteDance just 45 days to make these changes but a follow-up Executive Order provided the company 90 days to strike a deal. The Executive Order on August 14, 2020 also stated ByteDance must destroy any TikTok data from US users, and report to the Committee on Foreign Investment in the United States once all the data has been destroyed. This new acquisition opportunity quickly garnered interest from a number of businesses including, Microsoft, Oracle, and Walmart. Many expected Facebook and Amazon to also join the bidding but the two tech giants, both of which are already facing criticism over data-collecting and security, stayed on the sidelines. Netflix and Twitter were also reportedly approached as potential buyers but it is unclear if the companies ever had genuine interest in acquiring the video platform. So, why would a company want to strike a deal with TikTok? The deal would have allowed Microsoft (who was recently awarded the JEDI contract by the Pentagon) to continue to dominate and grow as one of the lead cloud-infrastructure service providers, as well as would have provided the company with tons of valuable data. On the other hand, the opportunity would help Oracle to be seen as a larger competitor in the cloud infrastructure market since currently the company does not rank among the top five largest global cloud infrastructure companies, a spot it is trying to secure. CTO Larry Ellison made it clear during Oracle’s first quarter earnings conference call that accumulating new cloud customers was a priority. According to ZDNET, “Oracle already has good traction in software as a service and accounts like Zoom and TikTok can help it win the full cloud stack.” The Washington Post speculated that Oracle also may want closer ties to TikTok to “fuel its data brokerage business, which collects detailed information on consumers to sell to advertisers.” After all, TikTok’s 91.9 million active users in the United States could provide essential data for the Oracle Data Cloud. Likewise, Walmart is also interested in gaining data related to TikTok’s mostly millennial and Generation Z consumer base to better target their advertising efforts toward these demographics. Due to President Trump’s Executive Orders TikTok was at risk of being removed from the app store on September 20, 2020. If this would have taken place the app would not have been available to new users but those who had already downloaded it would still be able to utilize the platform. However, at what seemed like the final hour ByteDance accepted a joint bid from Oracle and Walmart. Originally Walmart joined forces with Microsoft to bid for TikTok but after ByteDance rejected Microsoft’s offer, Walmart decided to join forces with Oracle. The deal received President Trump’s blessing, and averted Sunday’s TikTok ban. President Trump initially said the only way for TikTok to avoid being banned was to sell off their United States operations but has since settled for the deal between ByteDance, Oracle and Walmart. Under the new deal, Oracle will join forces with Walmart to form a new entity called TikTok Global, which will be headquartered in the United States. This deal provides Oracle with a 12.5% stake in the new entity and Walmart 7.5%. Furthermore, Oracle will become ByteDance’s “trusted tech partner” and will host all of the app’s data on its secured cloud while Walmart will provide e-commerce, fulfillment, payments and other services. Currently ByteDance uses Google Cloud but will transfer to Oracle upon finalizing the deal. According to Fox Business, ByteDance will retain roughly 80% ownership of the company but because the company is about 40% owned by U.S. investors, the new company with equity stakes for Oracle and Walmart can be described as having majority American ownership. ByteDance still must meet the U.S. government’s demands to secure user data on its service by November 12, 2020 in order for TikTok to continue services uninterrupted. If the demands are not met, the Department of Commerce said it would prevent Internet hosting, data center companies or phone providers from providing service to TikTok, making it impossible for TikTok to operate in the U.S. Both China and President Trump must approve of the deal. Trump has already stated that while the Oracle-Walmart deal appears to be good, “there can be zero security risk.” \"Everything is going to be moved into a cloud done by Oracle, it\\'s all through the cloud. And it\\'s going to be totally controlled by Oracle ... and if we find that they don\\'t have total control, then we\\'re not going to approve the deal,\" President Trump warned Fox & Friends. The deal therefore hinges on Oracle’s ability to provide a secure cloud environment for TikTok. There’s also potential that rather than allowing ByteDance to enter a messy deal with the United States, China could shut down the company altogether. That being said, if all parties agree TikTok is secure under the new deal, TikTok will continue as normal. We will just have to wait and see how this plays out. Former President Donald Trump signed two Executive Orders that threatened to ban the popular short video app, TikTok - unless its parent company sold TikTok’s US operations to a US vendor. In an announcement last week, Google said that it won a deal with Elon Musk’s SpaceX to provide the company with ground computing and networking resources needed for the satellite internet service - Starlink. Cloud overtakes on-prem data centers in 2020 - sees biggest growth in 10 years Start the conversation to  receive a free consultation \\nSubmit\\n \\n\\n\\n\\n\\n\\n\\n\\n \\n                    Dallas-based cloud engineering firm & Google Cloud Partner.\\n                 Migration & Management DevOps Cloud-Based App Dev App Modernization Big Data Analytics Dialogflow About Us How We Work Google Cloud Leadership Careers Contact Insight Articles Case Studies Cloud News\\n eBooks Whitepapers\\n Workshops\\n Copyright @ D3V Technology Solutions. All rights reserved. Privacy Policy Get the latest and most interesting industry trends, news and insights monthly. No spamming guaranteed!'"
            ]
          },
          "metadata": {},
          "execution_count": 10
        }
      ]
    },
    {
      "cell_type": "code",
      "metadata": {
        "colab": {
          "base_uri": "https://localhost:8080/"
        },
        "id": "oLmqi2sfSnVw",
        "outputId": "8944dcaa-f25d-421c-d2ca-627b2a47343c"
      },
      "source": [
        "print(summarize(ARTICLE, ratio=0.06))\n"
      ],
      "execution_count": 13,
      "outputs": [
        {
          "output_type": "stream",
          "name": "stdout",
          "text": [
            "('On August 6, 2020, President Trump signed an Executive Order announcing he '\n",
            " 'would be taking action to protect the national security of the United States '\n",
            " 'from risks posed by the spread of “mobile applications and owned companies '\n",
            " 'in the People’s Republic of China.” The order states apps such as these '\n",
            " 'including TikTok continue “to threaten the national security, foreign '\n",
            " 'policy, and economy of the United States.” Although, TikTok is one of '\n",
            " 'America’s most beloved short-form video social media platforms, and has been '\n",
            " 'downloaded over 175 million times in the United States as well as one '\n",
            " 'billion times globally, there is concern over the amount of information it '\n",
            " 'collects from its users and how that information is used since it is owned '\n",
            " 'by China-based company ByteDance.\\n'\n",
            " 'President Trump initially said the only way for TikTok to avoid being banned '\n",
            " 'was to sell off their United States operations but has since settled for the '\n",
            " 'deal between ByteDance, Oracle and Walmart.\\n'\n",
            " 'If the demands are not met, the Department of Commerce said it would prevent '\n",
            " 'Internet hosting, data center companies or phone providers from providing '\n",
            " 'service to TikTok, making it impossible for TikTok to operate in the U.S. '\n",
            " 'Both China and President Trump must approve of the deal.')\n"
          ]
        }
      ]
    },
    {
      "cell_type": "code",
      "metadata": {
        "id": "aiqA9Gf1St2z"
      },
      "source": [
        ""
      ],
      "execution_count": null,
      "outputs": []
    }
  ]
}