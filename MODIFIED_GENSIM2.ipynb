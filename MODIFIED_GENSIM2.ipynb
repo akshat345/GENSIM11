{
  "nbformat": 4,
  "nbformat_minor": 0,
  "metadata": {
    "colab": {
      "name": "MODIFIED GENSIM2.ipynb",
      "provenance": []
    },
    "kernelspec": {
      "name": "python3",
      "display_name": "Python 3"
    },
    "language_info": {
      "name": "python"
    }
  },
  "cells": [
    {
      "cell_type": "code",
      "metadata": {
        "id": "kX_AsLWiP7ex"
      },
      "source": [
        "from pprint import pprint as print\n",
        "from gensim.summarization import summarize\n"
      ],
      "execution_count": null,
      "outputs": []
    },
    {
      "cell_type": "code",
      "metadata": {
        "id": "b6NLOx5J3OPf"
      },
      "source": [
        "\n",
        "from bs4 import BeautifulSoup\n"
      ],
      "execution_count": 3,
      "outputs": []
    },
    {
      "cell_type": "code",
      "metadata": {
        "id": "jXMFw_U4QJrZ"
      },
      "source": [
        "URL = \"https://www.d3vtech.com/cloud-news/spacex-joins-google-cloud-for-elon-musks-ambitious-starlink-internet-project\""
      ],
      "execution_count": 14,
      "outputs": []
    },
    {
      "cell_type": "code",
      "metadata": {
        "id": "_GWu9Q4yQq52"
      },
      "source": [
        "r = requests.get(URL)\n"
      ],
      "execution_count": 15,
      "outputs": []
    },
    {
      "cell_type": "code",
      "metadata": {
        "id": "zpsrSLycSdC_"
      },
      "source": [
        "soup = BeautifulSoup(r.text, 'html.parser')\n",
        "results = soup.find_all(['h1', 'p'])\n",
        "text = [result.text for result in results]\n",
        "ARTICLE = ' '.join(text)"
      ],
      "execution_count": 16,
      "outputs": []
    },
    {
      "cell_type": "code",
      "metadata": {
        "colab": {
          "base_uri": "https://localhost:8080/",
          "height": 120
        },
        "id": "F8zEs3RaSk3W",
        "outputId": "d1f8005b-dc0e-47df-add0-237a36a63a1b"
      },
      "source": [
        "ARTICLE"
      ],
      "execution_count": 17,
      "outputs": [
        {
          "output_type": "execute_result",
          "data": {
            "application/vnd.google.colaboratory.intrinsic+json": {
              "type": "string"
            },
            "text/plain": [
              "'SpaceX joins Google Cloud for Elon Musk’s ambitious Starlink internet project \\nMay 21, 2021\\n  In an announcement last week, Google said that it won a deal with Elon Musk’s SpaceX to provide the company with ground computing and networking resources needed for the satellite internet service - Starlink. Google’s cloud computing department (Google Cloud Platform) has been experiencing explosive growth for the last few years. In a recent report for the first quarter of 2021, Google revealed that its cloud business is one of the fastest-growing departments in Google’s arsenal. The report revealed that in terms of year-over-year growth, Google Cloud is experiencing 46% YoY growth, in comparison, Google’s advertising department is growing at “only” 32%. Thanks to the fast growth, Google Cloud already accounts for 7% of the company’s total revenue in early 2021. And signing this deal is going to be a major boost in its growth. This isn’t the first partnership between Google and SpaceX as the former invested $900 million in SpaceX in 2015. But signing this deal is especially important because the fight for market share between major cloud vendors, Google, Amazon, and Microsoft, is becoming more intense. Additionally, millions of people and businesses have their eyes on Starlink’s progress as SpaceX prepares to roll out its satellite internet services globally. Signing this deal will bring in additional visibility to Google’s powerful cloud infrastructure and capabilities. What makes this deal even more important for Google is the fact that it is not the only major cloud vendor working with SpaceX. In October last year, Microsoft announced that it would be partnering with SpaceX to help bring Starlink internet connectivity to its Azure data applications. This would mean that Azure customers could use Starlink to connect to their Azure machines. Google’s own data centers would sit right in between this arrangement, acting as the main link between Starlink’s satellites in space and the devices connected to its internet on the ground (Azure devices being one of them). Let’s take a closer look at how this would work. Although many specifics about the deal are still confidential, we do have a fundamental understanding of how this partnership would work. In order to provide low-latency internet around the world, Starlink’s satellites would still need to connect to data centers on the ground - and SpaceX has chosen Google Cloud for the job. Google’s massive cloud infrastructure provides SpaceX and Starlink with the computational and networking power they need to bring a fast internet connection to millions of computers. In a recent press release, Google said “ SpaceX will begin to locate Starlink ground stations within Google data center properties, enabling the secure, low-latency, and reliable delivery of data” from Starlink satellites. “Google Cloud’s high-capacity private network will support the delivery of Starlink’s global satellite internet service, bringing businesses and consumers seamless connectivity to the cloud and Internet, and enabling the delivery of critical enterprise applications to virtually any location”, the press release continues. That said, there is a major difference between how Starlink uses Google Cloud and other enterprise-level applications. Most other enterprises typically “outsource” their compute, networking, and storage requirements to the Google Cloud Platform (GCP) and let the cloud handle most of the operations - this is partly what “managed services” refer to.  However, due to the complex requirements of Starlink, SpaceX has signed a deal that would give Starlink a closer look at GCP’s ground stations around the world. The more granular access allows SpaceX to find the data center properties (which are geographically spread out) the better it can securely connect with the satellites in orbit. And all of this while maximizing reliability and performance and minimizing latency.  Some of the biggest internet services in the world today are running on Google’s cloud infrastructure - serving billions of people and millions of businesses every day around the world with extreme reliability. Although Starlink’s satellite internet connectivity has its own unique challenges, it is confidence-inspiring that SpaceX has chosen to partner with a company with more than enough raw firepower to support Starlink’s ambitious goals.  As Starlink continues working hard to bring affordable and fast internet connections to the entire world, the increased resilience of Google’s data centers should help with staying on track to meet previously set developmental goals.  Former President Donald Trump signed two Executive Orders that threatened to ban the popular short video app, TikTok - unless its parent company sold TikTok’s US operations to a US vendor. Cloud overtakes on-prem data centers in 2020 - sees biggest growth in 10 years HSBC chooses Google Dialogflow to improve speed and overall quality of banking policy responses. Start the conversation to  receive a free consultation \\nSubmit\\n \\n\\n\\n\\n\\n\\n\\n\\n \\n                    Dallas-based cloud engineering firm & Google Cloud Partner.\\n                 Migration & Management DevOps Cloud-Based App Dev App Modernization Big Data Analytics Dialogflow About Us How We Work Google Cloud Leadership Careers Contact Insight Articles Case Studies Cloud News\\n eBooks Whitepapers\\n Workshops\\n Copyright @ D3V Technology Solutions. All rights reserved. Privacy Policy Get the latest and most interesting industry trends, news and insights monthly. No spamming guaranteed!'"
            ]
          },
          "metadata": {},
          "execution_count": 17
        }
      ]
    },
    {
      "cell_type": "code",
      "metadata": {
        "colab": {
          "base_uri": "https://localhost:8080/"
        },
        "id": "oLmqi2sfSnVw",
        "outputId": "ef49c79e-9597-4271-8b7e-637d646ad8a0"
      },
      "source": [
        "print(summarize(ARTICLE, ratio=0.1))\n"
      ],
      "execution_count": 21,
      "outputs": [
        {
          "output_type": "stream",
          "name": "stdout",
          "text": [
            "('In an announcement last week, Google said that it won a deal with Elon '\n",
            " 'Musk’s SpaceX to provide the company with ground computing and networking '\n",
            " 'resources needed for the satellite internet service - Starlink.\\n'\n",
            " 'In order to provide low-latency internet around the world, Starlink’s '\n",
            " 'satellites would still need to connect to data centers on the ground - and '\n",
            " 'SpaceX has chosen Google Cloud for the job.\\n'\n",
            " 'Google’s massive cloud infrastructure provides SpaceX and Starlink with the '\n",
            " 'computational and networking power they need to bring a fast internet '\n",
            " 'connection to millions of computers.\\n'\n",
            " 'In a recent press release, Google said “ SpaceX will begin to locate '\n",
            " 'Starlink ground stations within Google data center properties, enabling the '\n",
            " 'secure, low-latency, and reliable delivery of data” from Starlink '\n",
            " 'satellites.')\n"
          ]
        }
      ]
    },
    {
      "cell_type": "code",
      "metadata": {
        "id": "aiqA9Gf1St2z"
      },
      "source": [
        ""
      ],
      "execution_count": null,
      "outputs": []
    }
  ]
}